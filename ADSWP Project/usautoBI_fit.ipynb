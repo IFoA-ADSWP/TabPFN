{
 "cells": [
  {
   "cell_type": "markdown",
   "metadata": {},
   "source": [
    "### Read liabraries, data"
   ]
  },
  {
   "cell_type": "code",
   "execution_count": 9,
   "metadata": {},
   "outputs": [],
   "source": [
    "import pandas as pd\n",
    "import numpy as np\n",
    "import pyreadr\n",
    "\n",
    "from sklearn.model_selection import train_test_split\n",
    "\n",
    "from sklearn.ensemble import GradientBoostingRegressor\n",
    "from sklearn.metrics import mean_squared_error, r2_score\n",
    "from math import sqrt\n",
    "import matplotlib.pyplot as plt\n",
    "\n",
    "from tabpfn import TabPFNRegressor\n",
    "#from tabpfn_extensions import AutoTabPFNRegressor"
   ]
  },
  {
   "cell_type": "code",
   "execution_count": 10,
   "metadata": {},
   "outputs": [
    {
     "name": "stdout",
     "output_type": "stream",
     "text": [
      "odict_keys(['usautoBI'])\n"
     ]
    }
   ],
   "source": [
    "\n",
    "result = pyreadr.read_r(r\"data/usautoBI.rda\")\n",
    "print(result.keys())   # see available datasets inside"
   ]
  },
  {
   "cell_type": "code",
   "execution_count": 11,
   "metadata": {},
   "outputs": [
    {
     "name": "stdout",
     "output_type": "stream",
     "text": [
      "(1340, 8)\n",
      "   CASENUM  ATTORNEY CLMSEX MARITAL CLMINSUR SEATBELT CLMAGE    LOSS\n",
      "0        5       1.0      M     NaN        2        1     50  34.940\n",
      "1       13       0.0      F       2        1        1     28  10.892\n",
      "2       66       0.0      M       2        2        1      5   0.330\n",
      "3       71       1.0      M       1        2        2     32  11.037\n",
      "4       96       0.0      M       4        2        1     30   0.138\n"
     ]
    }
   ],
   "source": [
    "loss = result[\"usautoBI\"]\n",
    "\n",
    "print(loss.shape)\n",
    "print(loss.head())\n",
    "\n",
    "df = pd.DataFrame(loss)"
   ]
  },
  {
   "cell_type": "code",
   "execution_count": 12,
   "metadata": {},
   "outputs": [
    {
     "name": "stdout",
     "output_type": "stream",
     "text": [
      "<class 'pandas.core.frame.DataFrame'>\n",
      "Index: 1091 entries, 1 to 1339\n",
      "Data columns (total 7 columns):\n",
      " #   Column    Non-Null Count  Dtype  \n",
      "---  ------    --------------  -----  \n",
      " 0   ATTORNEY  1091 non-null   float64\n",
      " 1   CLMSEX    1091 non-null   object \n",
      " 2   MARITAL   1091 non-null   object \n",
      " 3   CLMINSUR  1091 non-null   object \n",
      " 4   SEATBELT  1091 non-null   object \n",
      " 5   CLMAGE    1091 non-null   object \n",
      " 6   LOSS      1091 non-null   float64\n",
      "dtypes: float64(2), object(5)\n",
      "memory usage: 68.2+ KB\n"
     ]
    }
   ],
   "source": [
    "\n",
    "df_fit = df.drop(columns=['CASENUM'])\n",
    "\n",
    "df_fit = df_fit.dropna()\n",
    "\n",
    "df_fit.info()"
   ]
  },
  {
   "cell_type": "markdown",
   "metadata": {},
   "source": [
    "### GBM"
   ]
  },
  {
   "cell_type": "code",
   "execution_count": 13,
   "metadata": {},
   "outputs": [],
   "source": [
    "\n",
    "X = df_fit.drop(columns=['LOSS'])\n",
    "y = df_fit['LOSS']\n",
    "\n",
    "## Turn X into dummy categorical class apart from the 'AGE' variable\n",
    "X = pd.get_dummies(X, columns=['ATTORNEY', 'CLMSEX', 'MARITAL', 'CLMINSUR', 'SEATBELT'], drop_first = True)"
   ]
  },
  {
   "cell_type": "code",
   "execution_count": 14,
   "metadata": {},
   "outputs": [],
   "source": [
    "X_train, X_test, y_train, y_test = train_test_split(X, y, test_size = 0.3, random_state = 44)"
   ]
  },
  {
   "cell_type": "code",
   "execution_count": 15,
   "metadata": {},
   "outputs": [
    {
     "name": "stdout",
     "output_type": "stream",
     "text": [
      "RMSE: 15.28540047701383\n",
      "R^2: 0.014130891253746558\n"
     ]
    }
   ],
   "source": [
    "## Fit a GBM regression model and evaluate the model\n",
    "\n",
    "model = GradientBoostingRegressor(n_estimators = 100, learning_rate = 0.1, max_depth = 3, random_state = 44)\n",
    "model.fit(X_train, y_train)\n",
    "\n",
    "y_pred = model.predict(X_test)\n",
    "rmse = sqrt(mean_squared_error(y_test, y_pred))\n",
    "r2 = r2_score(y_test, y_pred)\n",
    "\n",
    "print(f\"RMSE: {rmse}\")\n",
    "print(f\"R^2: {r2}\")\n"
   ]
  },
  {
   "cell_type": "code",
   "execution_count": 16,
   "metadata": {},
   "outputs": [
    {
     "data": {
      "image/png": "[encoded data removed]",
      "text/plain": [
       "<Figure size 640x480 with 1 Axes>"
      ]
     },
     "metadata": {},
     "output_type": "display_data"
    }
   ],
   "source": [
    "# Feature importance\n",
    "\n",
    "feature_importance = model.feature_importances_\n",
    "sorted_idx = np.argsort(feature_importance)\n",
    "plt.barh(range(len(sorted_idx)), feature_importance[sorted_idx], align='center')\n",
    "plt.yticks(range(len(sorted_idx)), [X.columns[i] for i in sorted_idx])\n",
    "plt.title('Feature Importance')\n",
    "plt.show()"
   ]
  },
  {
   "cell_type": "markdown",
   "metadata": {},
   "source": [
    "### Tabpfn"
   ]
  },
  {
   "cell_type": "code",
   "execution_count": 18,
   "metadata": {},
   "outputs": [],
   "source": [
    "regressor = TabPFNRegressor()\n",
    "regressor.fit(X_train, y_train)\n",
    "\n",
    "predictions = regressor.predict(X_test)"
   ]
  },
  {
   "cell_type": "code",
   "execution_count": 19,
   "metadata": {},
   "outputs": [
    {
     "name": "stdout",
     "output_type": "stream",
     "text": [
      "Mean Squared Error (MSE): 225.19427407419568\n",
      "R² Score: 0.049782643524265535\n"
     ]
    }
   ],
   "source": [
    "mse = mean_squared_error(y_test, predictions)\n",
    "r2 = r2_score(y_test, predictions)\n",
    "\n",
    "print(\"Mean Squared Error (MSE):\", mse)\n",
    "print(\"R² Score:\", r2)"
   ]
  },
  {
   "cell_type": "markdown",
   "metadata": {},
   "source": [
    "#### Use AUTORgressor per Colab notebook"
   ]
  },
  {
   "cell_type": "code",
   "execution_count": null,
   "metadata": {},
   "outputs": [],
   "source": []
  },
  {
   "cell_type": "code",
   "execution_count": null,
   "metadata": {},
   "outputs": [],
   "source": []
  }
 ],
 "metadata": {
  "kernelspec": {
   "display_name": "base",
   "language": "python",
   "name": "python3"
  },
  "language_info": {
   "codemirror_mode": {
    "name": "ipython",
    "version": 3
   },
   "file_extension": ".py",
   "mimetype": "text/x-python",
   "name": "python",
   "nbconvert_exporter": "python",
   "pygments_lexer": "ipython3",
   "version": "3.11.5"
  }
 },
 "nbformat": 4,
 "nbformat_minor": 2
}
