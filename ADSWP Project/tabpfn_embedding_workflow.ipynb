{
 "cells": [
  {
   "cell_type": "markdown",
   "id": "25c0f104",
   "metadata": {},
   "source": [
    "# TabPFN Embedding Extraction and Downstream Modeling Workflow\n",
    "\n",
    "This notebook demonstrates how to:\n",
    "1. Load a dataset (classification or regression)\n",
    "2. Extract TabPFN embeddings\n",
    "3. Use embeddings as features for downstream models (classification and regression)\n",
    "4. Evaluate performance."
   ]
  },
  {
   "cell_type": "markdown",
   "id": "d34799eb",
   "metadata": {},
   "source": [
    "# Prediction Targets in This Workbook\n",
    "This notebook demonstrates TabPFN embedding extraction and downstream modeling for two tasks:\n",
    "\n",
    "- **Classification:** Predicting whether a tumor is malignant or benign using the Breast Cancer dataset (`load_breast_cancer`). The target variable is binary: 0 (benign) or 1 (malignant).\n",
    "- **Regression:** Predicting disease progression (a quantitative measure) using the Diabetes dataset (`load_diabetes`). The target variable is a continuous value representing disease progression one year after baseline.\n",
    "\n",
    "TabPFN embeddings are extracted for both tasks and used as features for downstream models (logistic regression for classification, linear regression for regression). Performance is evaluated using accuracy (classification) and R² score (regression)."
   ]
  },
  {
   "cell_type": "code",
   "execution_count": 1,
   "id": "fe96c7cf",
   "metadata": {},
   "outputs": [
    {
     "name": "stderr",
     "output_type": "stream",
     "text": [
      "/Users/Scott/Documents/Data Science/ADSWP/TabPFN/.venv/lib/python3.9/site-packages/hyperopt/atpe.py:19: UserWarning: pkg_resources is deprecated as an API. See https://setuptools.pypa.io/en/latest/pkg_resources.html. The pkg_resources package is slated for removal as early as 2025-11-30. Refrain from using this package or pin to Setuptools<81.\n",
      "  import pkg_resources\n"
     ]
    }
   ],
   "source": [
    "# Import required libraries\n",
    "import numpy as np\n",
    "import pandas as pd\n",
    "from sklearn.datasets import load_breast_cancer, load_diabetes\n",
    "from sklearn.linear_model import LogisticRegression, LinearRegression\n",
    "from sklearn.metrics import accuracy_score, r2_score\n",
    "from sklearn.model_selection import train_test_split\n",
    "from tabpfn_extensions import TabPFNClassifier, TabPFNRegressor\n",
    "from tabpfn_extensions.embedding import TabPFNEmbedding"
   ]
  },
  {
   "cell_type": "markdown",
   "id": "8cd98ee0",
   "metadata": {},
   "source": [
    "## Classification Example: Breast Cancer Dataset"
   ]
  },
  {
   "cell_type": "code",
   "execution_count": 2,
   "id": "564e15a9",
   "metadata": {},
   "outputs": [],
   "source": [
    "# Load and split classification data\n",
    "clf_data = load_breast_cancer()\n",
    "X_clf, y_clf = clf_data.data, clf_data.target\n",
    "X_train_clf, X_test_clf, y_train_clf, y_test_clf = train_test_split(\n",
    "    X_clf, y_clf, test_size=0.2, random_state=42\n",
    ")"
   ]
  },
  {
   "cell_type": "code",
   "execution_count": 6,
   "id": "2ccedb63",
   "metadata": {},
   "outputs": [
    {
     "name": "stdout",
     "output_type": "stream",
     "text": [
      "Baseline Logistic Regression Accuracy: 0.9561\n"
     ]
    },
    {
     "name": "stderr",
     "output_type": "stream",
     "text": [
      "/Users/Scott/Documents/Data Science/ADSWP/TabPFN/.venv/lib/python3.9/site-packages/sklearn/linear_model/_logistic.py:465: ConvergenceWarning: lbfgs failed to converge (status=1):\n",
      "STOP: TOTAL NO. of ITERATIONS REACHED LIMIT.\n",
      "\n",
      "Increase the number of iterations (max_iter) or scale the data as shown in:\n",
      "    https://scikit-learn.org/stable/modules/preprocessing.html\n",
      "Please also refer to the documentation for alternative solver options:\n",
      "    https://scikit-learn.org/stable/modules/linear_model.html#logistic-regression\n",
      "  n_iter_i = _check_optimize_result(\n"
     ]
    }
   ],
   "source": [
    "# Baseline logistic regression\n",
    "baseline_clf = LogisticRegression(max_iter=1000, random_state=42)\n",
    "baseline_clf.fit(X_train_clf, y_train_clf)\n",
    "baseline_acc = accuracy_score(y_test_clf, baseline_clf.predict(X_test_clf))\n",
    "print(f'Baseline Logistic Regression Accuracy: {baseline_acc:.4f}')"
   ]
  },
  {
   "cell_type": "code",
   "execution_count": 7,
   "id": "f3ce378e",
   "metadata": {},
   "outputs": [],
   "source": [
    "clf = TabPFNClassifier(n_estimators=1, random_state=42)\n",
    "embedding_extractor_clf = TabPFNEmbedding(tabpfn_clf=clf, n_fold=0)\n",
    "train_embeddings_clf = embedding_extractor_clf.get_embeddings(\n",
    "    X_train_clf, y_train_clf, X_test_clf, data_source=\"train\"\n",
    ")[0]\n",
    "test_embeddings_clf = embedding_extractor_clf.get_embeddings(\n",
    "    X_train_clf, y_train_clf, X_test_clf, data_source=\"test\"\n",
    ")[0]"
   ]
  },
  {
   "cell_type": "code",
   "execution_count": 8,
   "id": "caecd0c7",
   "metadata": {},
   "outputs": [
    {
     "name": "stdout",
     "output_type": "stream",
     "text": [
      "TabPFN Embedding + Logistic Regression Accuracy: 0.9825\n"
     ]
    }
   ],
   "source": [
    "# Downstream classifier on TabPFN embeddings\n",
    "downstream_clf = LogisticRegression(max_iter=1000, random_state=42)\n",
    "downstream_clf.fit(train_embeddings_clf, y_train_clf)\n",
    "y_pred_clf = downstream_clf.predict(test_embeddings_clf)\n",
    "print(f'TabPFN Embedding + Logistic Regression Accuracy: {accuracy_score(y_test_clf, y_pred_clf):.4f}')"
   ]
  },
  {
   "cell_type": "markdown",
   "id": "61df4a18",
   "metadata": {},
   "source": [
    "## Regression Example: Diabetes Dataset"
   ]
  },
  {
   "cell_type": "code",
   "execution_count": 9,
   "id": "10aeb919",
   "metadata": {},
   "outputs": [],
   "source": [
    "# Load and split regression data\n",
    "reg_data = load_diabetes()\n",
    "X_reg, y_reg = reg_data.data, reg_data.target\n",
    "X_train_reg, X_test_reg, y_train_reg, y_test_reg = train_test_split(\n",
    "    X_reg, y_reg, test_size=0.2, random_state=42\n",
    ")"
   ]
  },
  {
   "cell_type": "code",
   "execution_count": 10,
   "id": "de7d8c1a",
   "metadata": {},
   "outputs": [
    {
     "name": "stdout",
     "output_type": "stream",
     "text": [
      "Baseline Linear Regression R2: 0.4526\n"
     ]
    }
   ],
   "source": [
    "# Baseline linear regression\n",
    "baseline_reg = LinearRegression()\n",
    "baseline_reg.fit(X_train_reg, y_train_reg)\n",
    "baseline_r2 = r2_score(y_test_reg, baseline_reg.predict(X_test_reg))\n",
    "print(f'Baseline Linear Regression R2: {baseline_r2:.4f}')"
   ]
  },
  {
   "cell_type": "code",
   "execution_count": 11,
   "id": "c6009864",
   "metadata": {},
   "outputs": [],
   "source": [
    "# TabPFN Embedding extraction for regression\n",
    "reg = TabPFNRegressor(n_estimators=1, random_state=42)\n",
    "embedding_extractor_reg = TabPFNEmbedding(tabpfn_clf=reg, n_fold=0)\n",
    "train_embeddings_reg = embedding_extractor_reg.get_embeddings(\n",
    "    X_train_reg, y_train_reg, X_test_reg, data_source=\"train\"\n",
    " )[0]\n",
    "test_embeddings_reg = embedding_extractor_reg.get_embeddings(\n",
    "    X_train_reg, y_train_reg, X_test_reg, data_source=\"test\"\n",
    " )[0]"
   ]
  },
  {
   "cell_type": "code",
   "execution_count": 12,
   "id": "204fa8a3",
   "metadata": {},
   "outputs": [
    {
     "name": "stdout",
     "output_type": "stream",
     "text": [
      "TabPFN Embedding + Linear Regression R2: 0.0506\n"
     ]
    }
   ],
   "source": [
    "# Downstream regressor on TabPFN embeddings\n",
    "downstream_reg = LinearRegression()\n",
    "downstream_reg.fit(train_embeddings_reg, y_train_reg)\n",
    "y_pred_reg = downstream_reg.predict(test_embeddings_reg)\n",
    "print(f'TabPFN Embedding + Linear Regression R2: {r2_score(y_test_reg, y_pred_reg):.4f}')"
   ]
  },
  {
   "cell_type": "code",
   "execution_count": 15,
   "id": "950fc9ac",
   "metadata": {},
   "outputs": [
    {
     "name": "stdout",
     "output_type": "stream",
     "text": [
      "Baseline Random Forest Accuracy (raw features): 0.9649\n",
      "Baseline Random Forest R2 (raw features): 0.4428\n",
      "Baseline Random Forest R2 (raw features): 0.4428\n"
     ]
    }
   ],
   "source": [
    "# Baseline classifier: Random Forest on raw features (classification)\n",
    "from sklearn.ensemble import RandomForestRegressor\n",
    "rf_clf_baseline = RandomForestClassifier(n_estimators=100, random_state=42)\n",
    "rf_clf_baseline.fit(X_train_clf, y_train_clf)\n",
    "y_pred_rf_clf_baseline = rf_clf_baseline.predict(X_test_clf)\n",
    "print(f'Baseline Random Forest Accuracy (raw features): {accuracy_score(y_test_clf, y_pred_rf_clf_baseline):.4f}')\n",
    "\n",
    "# Baseline regressor: Random Forest on raw features (regression)\n",
    "rf_reg_baseline = RandomForestRegressor(n_estimators=100, random_state=42)\n",
    "rf_reg_baseline.fit(X_train_reg, y_train_reg)\n",
    "y_pred_rf_reg_baseline = rf_reg_baseline.predict(X_test_reg)\n",
    "print(f'Baseline Random Forest R2 (raw features): {r2_score(y_test_reg, y_pred_rf_reg_baseline):.4f}')"
   ]
  },
  {
   "cell_type": "code",
   "execution_count": 16,
   "id": "77b9709d",
   "metadata": {},
   "outputs": [
    {
     "name": "stdout",
     "output_type": "stream",
     "text": [
      "TabPFN Embedding + Random Forest Accuracy: 0.9474\n",
      "TabPFN Embedding + Random Forest R2: -0.0066\n",
      "TabPFN Embedding + Random Forest R2: -0.0066\n"
     ]
    }
   ],
   "source": [
    "# Downstream classifier: Random Forest on TabPFN embeddings (classification)\n",
    "from sklearn.ensemble import RandomForestClassifier\n",
    "rf_clf = RandomForestClassifier(n_estimators=100, random_state=42)\n",
    "rf_clf.fit(train_embeddings_clf, y_train_clf)\n",
    "y_pred_rf_clf = rf_clf.predict(test_embeddings_clf)\n",
    "print(f'TabPFN Embedding + Random Forest Accuracy: {accuracy_score(y_test_clf, y_pred_rf_clf):.4f}')\n",
    "\n",
    "\n",
    "# Downstream regressor: Random Forest on TabPFN embeddings (regression)\n",
    "from sklearn.ensemble import RandomForestRegressor\n",
    "rf_reg = RandomForestRegressor(n_estimators=100, random_state=42)\n",
    "rf_reg.fit(train_embeddings_reg, y_train_reg)\n",
    "y_pred_rf_reg = rf_reg.predict(test_embeddings_reg)\n",
    "print(f'TabPFN Embedding + Random Forest R2: {r2_score(y_test_reg, y_pred_rf_reg):.4f}')"
   ]
  },
  {
   "cell_type": "code",
   "execution_count": 17,
   "id": "5b3ac517",
   "metadata": {},
   "outputs": [
    {
     "name": "stdout",
     "output_type": "stream",
     "text": [
      "TabPFN Embedding + MLP Accuracy: 0.6228\n",
      "TabPFN Embedding + MLP R2: -3.3782\n"
     ]
    },
    {
     "name": "stderr",
     "output_type": "stream",
     "text": [
      "/Users/Scott/Documents/Data Science/ADSWP/TabPFN/.venv/lib/python3.9/site-packages/sklearn/neural_network/_multilayer_perceptron.py:691: ConvergenceWarning: Stochastic Optimizer: Maximum iterations (500) reached and the optimization hasn't converged yet.\n",
      "  warnings.warn(\n"
     ]
    }
   ],
   "source": [
    "# Downstream classifier: MLP on TabPFN embeddings (classification) with scaling\n",
    "from sklearn.neural_network import MLPClassifier\n",
    "from sklearn.preprocessing import StandardScaler\n",
    "scaler_clf = StandardScaler()\n",
    "X_train_emb_scaled_clf = scaler_clf.fit_transform(train_embeddings_clf)\n",
    "X_test_emb_scaled_clf = scaler_clf.transform(test_embeddings_clf)\n",
    "mlp_clf = MLPClassifier(hidden_layer_sizes=(64, 32), max_iter=500, random_state=42)\n",
    "mlp_clf.fit(X_train_emb_scaled_clf, y_train_clf)\n",
    "y_pred_mlp_clf = mlp_clf.predict(X_test_emb_scaled_clf)\n",
    "print(f'TabPFN Embedding + MLP Accuracy: {accuracy_score(y_test_clf, y_pred_mlp_clf):.4f}')\n",
    "\n",
    "\n",
    "# Downstream regressor: MLP on TabPFN embeddings (regression) with scaling\n",
    "from sklearn.neural_network import MLPRegressor\n",
    "scaler_reg = StandardScaler()\n",
    "X_train_emb_scaled_reg = scaler_reg.fit_transform(train_embeddings_reg)\n",
    "X_test_emb_scaled_reg = scaler_reg.transform(test_embeddings_reg)\n",
    "mlp_reg = MLPRegressor(hidden_layer_sizes=(64, 32), max_iter=500, random_state=42)\n",
    "mlp_reg.fit(X_train_emb_scaled_reg, y_train_reg)\n",
    "y_pred_mlp_reg = mlp_reg.predict(X_test_emb_scaled_reg)\n",
    "print(f'TabPFN Embedding + MLP R2: {r2_score(y_test_reg, y_pred_mlp_reg):.4f}')"
   ]
  },
  {
   "cell_type": "code",
   "execution_count": 18,
   "id": "1631846e",
   "metadata": {},
   "outputs": [
    {
     "name": "stdout",
     "output_type": "stream",
     "text": [
      "Baseline MLP Accuracy (raw features): 0.9737\n",
      "Baseline MLP R2 (raw features): 0.4787\n"
     ]
    },
    {
     "name": "stderr",
     "output_type": "stream",
     "text": [
      "/Users/Scott/Documents/Data Science/ADSWP/TabPFN/.venv/lib/python3.9/site-packages/sklearn/neural_network/_multilayer_perceptron.py:691: ConvergenceWarning: Stochastic Optimizer: Maximum iterations (500) reached and the optimization hasn't converged yet.\n",
      "  warnings.warn(\n"
     ]
    }
   ],
   "source": [
    "# Baseline classifier: MLP on raw features (classification) with scaling\n",
    "scaler_clf_raw = StandardScaler()\n",
    "X_train_clf_scaled = scaler_clf_raw.fit_transform(X_train_clf)\n",
    "X_test_clf_scaled = scaler_clf_raw.transform(X_test_clf)\n",
    "mlp_clf_raw = MLPClassifier(hidden_layer_sizes=(64, 32), max_iter=500, random_state=42)\n",
    "mlp_clf_raw.fit(X_train_clf_scaled, y_train_clf)\n",
    "y_pred_mlp_clf_raw = mlp_clf_raw.predict(X_test_clf_scaled)\n",
    "print(f'Baseline MLP Accuracy (raw features): {accuracy_score(y_test_clf, y_pred_mlp_clf_raw):.4f}')\n",
    "\n",
    "\n",
    "# Baseline regressor: MLP on raw features (regression) with scaling\n",
    "scaler_reg_raw = StandardScaler()\n",
    "X_train_reg_scaled = scaler_reg_raw.fit_transform(X_train_reg)\n",
    "X_test_reg_scaled = scaler_reg_raw.transform(X_test_reg)\n",
    "mlp_reg_raw = MLPRegressor(hidden_layer_sizes=(64, 32), max_iter=500, random_state=42)\n",
    "mlp_reg_raw.fit(X_train_reg_scaled, y_train_reg)\n",
    "y_pred_mlp_reg_raw = mlp_reg_raw.predict(X_test_reg_scaled)\n",
    "print(f'Baseline MLP R2 (raw features): {r2_score(y_test_reg, y_pred_mlp_reg_raw):.4f}')"
   ]
  },
  {
   "cell_type": "code",
   "execution_count": 19,
   "id": "ad0510e7",
   "metadata": {},
   "outputs": [
    {
     "name": "stdout",
     "output_type": "stream",
     "text": [
      "Baseline SVM Accuracy (raw features): 0.9825\n",
      "TabPFN Embedding + SVM Accuracy: 0.3772\n",
      "Baseline SVR R2 (raw features): 0.1822\n",
      "TabPFN Embedding + SVR R2: -0.0000\n",
      "Baseline KNN Accuracy (raw features): 0.9474\n",
      "TabPFN Embedding + KNN Accuracy: 0.9737\n",
      "Baseline KNN R2 (raw features): 0.4248\n",
      "TabPFN Embedding + KNN R2: -0.2863\n"
     ]
    }
   ],
   "source": [
    "# Baseline classifier: SVM on raw features (classification) with scaling\n",
    "from sklearn.svm import SVC\n",
    "scaler_svm_clf_raw = StandardScaler()\n",
    "X_train_clf_scaled_svm = scaler_svm_clf_raw.fit_transform(X_train_clf)\n",
    "X_test_clf_scaled_svm = scaler_svm_clf_raw.transform(X_test_clf)\n",
    "svm_clf_raw = SVC(kernel='rbf', random_state=42)\n",
    "svm_clf_raw.fit(X_train_clf_scaled_svm, y_train_clf)\n",
    "y_pred_svm_clf_raw = svm_clf_raw.predict(X_test_clf_scaled_svm)\n",
    "print(f'Baseline SVM Accuracy (raw features): {accuracy_score(y_test_clf, y_pred_svm_clf_raw):.4f}')\n",
    "\n",
    "\n",
    "# Enhanced classifier: SVM on TabPFN embeddings (classification) with scaling\n",
    "scaler_svm_clf_emb = StandardScaler()\n",
    "X_train_emb_scaled_svm_clf = scaler_svm_clf_emb.fit_transform(train_embeddings_clf)\n",
    "X_test_emb_scaled_svm_clf = scaler_svm_clf_emb.transform(test_embeddings_clf)\n",
    "svm_clf_emb = SVC(kernel='rbf', random_state=42)\n",
    "svm_clf_emb.fit(X_train_emb_scaled_svm_clf, y_train_clf)\n",
    "y_pred_svm_clf_emb = svm_clf_emb.predict(X_test_emb_scaled_svm_clf)\n",
    "print(f'TabPFN Embedding + SVM Accuracy: {accuracy_score(y_test_clf, y_pred_svm_clf_emb):.4f}')\n",
    "\n",
    "\n",
    "# Baseline regressor: SVR on raw features (regression) with scaling\n",
    "from sklearn.svm import SVR\n",
    "scaler_svr_reg_raw = StandardScaler()\n",
    "X_train_reg_scaled_svr = scaler_svr_reg_raw.fit_transform(X_train_reg)\n",
    "X_test_reg_scaled_svr = scaler_svr_reg_raw.transform(X_test_reg)\n",
    "svr_reg_raw = SVR(kernel='rbf')\n",
    "svr_reg_raw.fit(X_train_reg_scaled_svr, y_train_reg)\n",
    "y_pred_svr_reg_raw = svr_reg_raw.predict(X_test_reg_scaled_svr)\n",
    "print(f'Baseline SVR R2 (raw features): {r2_score(y_test_reg, y_pred_svr_reg_raw):.4f}')\n",
    "\n",
    "\n",
    "# Enhanced regressor: SVR on TabPFN embeddings (regression) with scaling\n",
    "scaler_svr_reg_emb = StandardScaler()\n",
    "X_train_emb_scaled_svr_reg = scaler_svr_reg_emb.fit_transform(train_embeddings_reg)\n",
    "X_test_emb_scaled_svr_reg = scaler_svr_reg_emb.transform(test_embeddings_reg)\n",
    "svr_reg_emb = SVR(kernel='rbf')\n",
    "svr_reg_emb.fit(X_train_emb_scaled_svr_reg, y_train_reg)\n",
    "y_pred_svr_reg_emb = svr_reg_emb.predict(X_test_emb_scaled_svr_reg)\n",
    "print(f'TabPFN Embedding + SVR R2: {r2_score(y_test_reg, y_pred_svr_reg_emb):.4f}')\n",
    "\n",
    "\n",
    "# Baseline classifier: KNN on raw features (classification) with scaling\n",
    "from sklearn.neighbors import KNeighborsClassifier\n",
    "scaler_knn_clf_raw = StandardScaler()\n",
    "X_train_clf_scaled_knn = scaler_knn_clf_raw.fit_transform(X_train_clf)\n",
    "X_test_clf_scaled_knn = scaler_knn_clf_raw.transform(X_test_clf)\n",
    "knn_clf_raw = KNeighborsClassifier(n_neighbors=5)\n",
    "knn_clf_raw.fit(X_train_clf_scaled_knn, y_train_clf)\n",
    "y_pred_knn_clf_raw = knn_clf_raw.predict(X_test_clf_scaled_knn)\n",
    "print(f'Baseline KNN Accuracy (raw features): {accuracy_score(y_test_clf, y_pred_knn_clf_raw):.4f}')\n",
    "\n",
    "\n",
    "# Enhanced classifier: KNN on TabPFN embeddings (classification) with scaling\n",
    "scaler_knn_clf_emb = StandardScaler()\n",
    "X_train_emb_scaled_knn_clf = scaler_knn_clf_emb.fit_transform(train_embeddings_clf)\n",
    "X_test_emb_scaled_knn_clf = scaler_knn_clf_emb.transform(test_embeddings_clf)\n",
    "knn_clf_emb = KNeighborsClassifier(n_neighbors=5)\n",
    "knn_clf_emb.fit(X_train_emb_scaled_knn_clf, y_train_clf)\n",
    "y_pred_knn_clf_emb = knn_clf_emb.predict(X_test_emb_scaled_knn_clf)\n",
    "print(f'TabPFN Embedding + KNN Accuracy: {accuracy_score(y_test_clf, y_pred_knn_clf_emb):.4f}')\n",
    "\n",
    "\n",
    "# Baseline regressor: KNN on raw features (regression) with scaling\n",
    "from sklearn.neighbors import KNeighborsRegressor\n",
    "scaler_knn_reg_raw = StandardScaler()\n",
    "X_train_reg_scaled_knn = scaler_knn_reg_raw.fit_transform(X_train_reg)\n",
    "X_test_reg_scaled_knn = scaler_knn_reg_raw.transform(X_test_reg)\n",
    "knn_reg_raw = KNeighborsRegressor(n_neighbors=5)\n",
    "knn_reg_raw.fit(X_train_reg_scaled_knn, y_train_reg)\n",
    "y_pred_knn_reg_raw = knn_reg_raw.predict(X_test_reg_scaled_knn)\n",
    "print(f'Baseline KNN R2 (raw features): {r2_score(y_test_reg, y_pred_knn_reg_raw):.4f}')\n",
    "\n",
    "\n",
    "# Enhanced regressor: KNN on TabPFN embeddings (regression) with scaling\n",
    "scaler_knn_reg_emb = StandardScaler()\n",
    "X_train_emb_scaled_knn_reg = scaler_knn_reg_emb.fit_transform(train_embeddings_reg)\n",
    "X_test_emb_scaled_knn_reg = scaler_knn_reg_emb.transform(test_embeddings_reg)\n",
    "knn_reg_emb = KNeighborsRegressor(n_neighbors=5)\n",
    "knn_reg_emb.fit(X_train_emb_scaled_knn_reg, y_train_reg)\n",
    "y_pred_knn_reg_emb = knn_reg_emb.predict(X_test_emb_scaled_knn_reg)\n",
    "print(f'TabPFN Embedding + KNN R2: {r2_score(y_test_reg, y_pred_knn_reg_emb):.4f}')"
   ]
  }
 ],
 "metadata": {
  "kernelspec": {
   "display_name": ".venv",
   "language": "python",
   "name": "python3"
  },
  "language_info": {
   "codemirror_mode": {
    "name": "ipython",
    "version": 3
   },
   "file_extension": ".py",
   "mimetype": "text/x-python",
   "name": "python",
   "nbconvert_exporter": "python",
   "pygments_lexer": "ipython3",
   "version": "3.9.6"
  }
 },
 "nbformat": 4,
 "nbformat_minor": 5
}
